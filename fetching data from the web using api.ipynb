{
 "cells": [
  {
   "cell_type": "markdown",
   "id": "753f6abf",
   "metadata": {},
   "source": [
    "### API\n",
    "\n",
    "- Application programming interface\n",
    "- it is a component that allows two softwares to talk to each others"
   ]
  },
  {
   "cell_type": "code",
   "execution_count": 6,
   "id": "8b35ce66",
   "metadata": {},
   "outputs": [],
   "source": [
    "import pandas as pd\n",
    "import requests"
   ]
  },
  {
   "cell_type": "code",
   "execution_count": 7,
   "id": "1109f31b",
   "metadata": {},
   "outputs": [],
   "source": [
    "# The data was from the Indian government's open source dataset\n",
    "data = requests.get('https://api.data.gov.in/resource/352b3616-9d3d-42e5-80af-7d21a2a53fab?api-key=579b464db66ec23bdd0000010615f4b47b74499350843fbcb057e7ae&format=json')"
   ]
  },
  {
   "cell_type": "code",
   "execution_count": 8,
   "id": "b4546985",
   "metadata": {},
   "outputs": [
    {
     "name": "stdout",
     "output_type": "stream",
     "text": [
      "{'index_name': '352b3616-9d3d-42e5-80af-7d21a2a53fab', 'title': 'Year-wise retail inflation rate based on Consumer Price Index-Combined (CPI-C) from 2017-18 to 2022-23', 'desc': 'Year-wise retail inflation rate based on Consumer Price Index-Combined (CPI-C) from 2017-18 to 2022-23', 'created': 1685437539476, 'updated': 1685437583, 'created_date': '2023-05-30T14:36:18Z', 'updated_date': '2023-05-30T14:36:23Z', 'active': '1', 'visualizable': '1', 'catalog_uuid': '646eeed7-710f-4e3f-bf09-6b410bbc7d19', 'source': 'data.gov.in', 'org_type': 'Central', 'org': ['Rajya Sabha'], 'sector': ['All'], 'field': [{'id': 'financial_year', 'name': 'Financial Year', 'type': 'keyword'}, {'id': 'cpi_c_inflation_', 'name': 'CPI-C Inflation (%)', 'type': 'double'}], 'target_bucket': {'index': 'api', 'type': '646eeed7-710f-4e3f-bf09-6b410bbc7d19', 'field': '352b3616-9d3d-42e5-80af-7d21a2a53fab'}, 'message': 'Resource lists', 'version': '2.2.0', 'status': 'ok', 'total': 6, 'count': 6, 'limit': '10', 'offset': '0', 'records': [{'financial_year': '2017-18', 'cpi_c_inflation_': 3.59}, {'financial_year': '2018-19', 'cpi_c_inflation_': 3.41}, {'financial_year': '2019-20', 'cpi_c_inflation_': 4.77}, {'financial_year': '2020-21', 'cpi_c_inflation_': 6.16}, {'financial_year': '2021-22', 'cpi_c_inflation_': 5.51}, {'financial_year': '2022-23 (April-February)', 'cpi_c_inflation_': 6.75}]}\n"
     ]
    }
   ],
   "source": [
    "print(data.json())"
   ]
  },
  {
   "cell_type": "code",
   "execution_count": 9,
   "id": "0093316e",
   "metadata": {},
   "outputs": [],
   "source": [
    "## By putting the above output in the online json viewer we see that in the \"records\" there only two columns \n",
    "## financial_information and cpi_c_inflation"
   ]
  },
  {
   "cell_type": "code",
   "execution_count": 10,
   "id": "7886438b",
   "metadata": {},
   "outputs": [],
   "source": [
    "df = pd.DataFrame(data.json()['records'])  # creating a dataframe from the json file by taking the records section "
   ]
  },
  {
   "cell_type": "code",
   "execution_count": 11,
   "id": "67a969d9",
   "metadata": {},
   "outputs": [
    {
     "data": {
      "text/html": [
       "<div>\n",
       "<style scoped>\n",
       "    .dataframe tbody tr th:only-of-type {\n",
       "        vertical-align: middle;\n",
       "    }\n",
       "\n",
       "    .dataframe tbody tr th {\n",
       "        vertical-align: top;\n",
       "    }\n",
       "\n",
       "    .dataframe thead th {\n",
       "        text-align: right;\n",
       "    }\n",
       "</style>\n",
       "<table border=\"1\" class=\"dataframe\">\n",
       "  <thead>\n",
       "    <tr style=\"text-align: right;\">\n",
       "      <th></th>\n",
       "      <th>financial_year</th>\n",
       "      <th>cpi_c_inflation_</th>\n",
       "    </tr>\n",
       "  </thead>\n",
       "  <tbody>\n",
       "    <tr>\n",
       "      <th>0</th>\n",
       "      <td>2017-18</td>\n",
       "      <td>3.59</td>\n",
       "    </tr>\n",
       "    <tr>\n",
       "      <th>1</th>\n",
       "      <td>2018-19</td>\n",
       "      <td>3.41</td>\n",
       "    </tr>\n",
       "    <tr>\n",
       "      <th>2</th>\n",
       "      <td>2019-20</td>\n",
       "      <td>4.77</td>\n",
       "    </tr>\n",
       "    <tr>\n",
       "      <th>3</th>\n",
       "      <td>2020-21</td>\n",
       "      <td>6.16</td>\n",
       "    </tr>\n",
       "    <tr>\n",
       "      <th>4</th>\n",
       "      <td>2021-22</td>\n",
       "      <td>5.51</td>\n",
       "    </tr>\n",
       "    <tr>\n",
       "      <th>5</th>\n",
       "      <td>2022-23 (April-February)</td>\n",
       "      <td>6.75</td>\n",
       "    </tr>\n",
       "  </tbody>\n",
       "</table>\n",
       "</div>"
      ],
      "text/plain": [
       "             financial_year  cpi_c_inflation_\n",
       "0                   2017-18              3.59\n",
       "1                   2018-19              3.41\n",
       "2                   2019-20              4.77\n",
       "3                   2020-21              6.16\n",
       "4                   2021-22              5.51\n",
       "5  2022-23 (April-February)              6.75"
      ]
     },
     "execution_count": 11,
     "metadata": {},
     "output_type": "execute_result"
    }
   ],
   "source": [
    "df"
   ]
  },
  {
   "cell_type": "code",
   "execution_count": null,
   "id": "2b309af6",
   "metadata": {},
   "outputs": [],
   "source": []
  }
 ],
 "metadata": {
  "kernelspec": {
   "display_name": "Python 3 (ipykernel)",
   "language": "python",
   "name": "python3"
  },
  "language_info": {
   "codemirror_mode": {
    "name": "ipython",
    "version": 3
   },
   "file_extension": ".py",
   "mimetype": "text/x-python",
   "name": "python",
   "nbconvert_exporter": "python",
   "pygments_lexer": "ipython3",
   "version": "3.10.9"
  }
 },
 "nbformat": 4,
 "nbformat_minor": 5
}
