{
 "cells": [
  {
   "cell_type": "markdown",
   "id": "65ed2fdc",
   "metadata": {},
   "source": [
    "## Function to Summarize a Text File: \n",
    "Write a function that accepts a filename as a parameter, reads the file, and returns the number of lines, words, and characters in the file."
   ]
  },
  {
   "cell_type": "code",
   "execution_count": 57,
   "id": "967ab5f4",
   "metadata": {},
   "outputs": [],
   "source": [
    "def summarize_text_file(filename):\n",
    "    with open(filename, 'r') as file:\n",
    "        content = file.read()\n",
    "        lines = content.split('\\n')\n",
    "        words = content.split()\n",
    "        characters = list(content.replace('\\n', ''))\n",
    "        return len(lines), len(words), len(characters)"
   ]
  },
  {
   "cell_type": "code",
   "execution_count": 58,
   "id": "8417fc57",
   "metadata": {},
   "outputs": [
    {
     "data": {
      "text/plain": [
       "(5, 39, 206)"
      ]
     },
     "execution_count": 58,
     "metadata": {},
     "output_type": "execute_result"
    }
   ],
   "source": [
    "summarize_text_file(r'C:\\Users\\panka\\Documents\\cx\\sample1.txt')"
   ]
  },
  {
   "cell_type": "markdown",
   "id": "59e9ae2e",
   "metadata": {},
   "source": [
    "## Palindrome Checker: Create a function that checks if a given string is a palindrome\n",
    "(reads the same backward as forward, ignoring spaces, punctuation, and\n",
    "capitalization)"
   ]
  },
  {
   "cell_type": "code",
   "execution_count": 9,
   "id": "be6b47a6",
   "metadata": {},
   "outputs": [],
   "source": [
    "def ispalindrome(s:str)->bool:\n",
    "    k = s[::-1]               # reversing the string and storing it in k \n",
    "    if s.lower() == k.lower():  # checking if the lower of the string are equal to each other\n",
    "        return True\n",
    "    return False"
   ]
  },
  {
   "cell_type": "code",
   "execution_count": 10,
   "id": "c0150ba8",
   "metadata": {},
   "outputs": [
    {
     "data": {
      "text/plain": [
       "True"
      ]
     },
     "execution_count": 10,
     "metadata": {},
     "output_type": "execute_result"
    }
   ],
   "source": [
    "ispalindrome('Madam')"
   ]
  },
  {
   "cell_type": "markdown",
   "id": "17bb615f",
   "metadata": {},
   "source": [
    "##  Basic Calculator: Write a function that takes two numbers and a mathematical\n",
    "operation (add, subtract, multiply, divide) as parameters and returns the result of\n",
    "that operation."
   ]
  },
  {
   "cell_type": "code",
   "execution_count": 12,
   "id": "e6304f34",
   "metadata": {},
   "outputs": [],
   "source": [
    "def calculator(num1:int, num2:int, operation:str):\n",
    "    if operation == '+':\n",
    "        return num1 + num2\n",
    "    elif operation == '-':\n",
    "        return num1 - num2\n",
    "    elif operation == '*':\n",
    "        return num1 * num2\n",
    "    elif operation == '/':\n",
    "        return num1 / num2\n",
    "    else:\n",
    "        return \"the functioning of this calculator is basic\""
   ]
  },
  {
   "cell_type": "code",
   "execution_count": 17,
   "id": "d8639648",
   "metadata": {},
   "outputs": [
    {
     "data": {
      "text/plain": [
       "'the functioning of this calculator is basic'"
      ]
     },
     "execution_count": 17,
     "metadata": {},
     "output_type": "execute_result"
    }
   ],
   "source": [
    "calculator(15,14,'//')"
   ]
  },
  {
   "cell_type": "markdown",
   "id": "1e710ba5",
   "metadata": {},
   "source": [
    "## Frequency Counter: Develop a function that takes a list of numbers and returns a\n",
    "dictionary with keys being the numbers and values being the frequency of those\n",
    "numbers in the list.\n"
   ]
  },
  {
   "cell_type": "code",
   "execution_count": 31,
   "id": "b82d90a4",
   "metadata": {},
   "outputs": [
    {
     "data": {
      "text/plain": [
       "{99: 3, 11: 3, 12: 2, 23: 2, 13: 2}"
      ]
     },
     "execution_count": 31,
     "metadata": {},
     "output_type": "execute_result"
    }
   ],
   "source": [
    "def frequency_counter(l:list)->dict:\n",
    "    dic = {}  \n",
    "    for i in l:           \n",
    "        if i in dic.keys():             # if the num is already in the dictionary then add one to the value of it\n",
    "            dic[i] += 1\n",
    "        else:\n",
    "            dic[i] = 1         # if the num is not in the dictionary then add it to the dictionary and a give it value one \n",
    "    return dic\n",
    "        \n",
    "        \n",
    "l = [99,99,11,11,11,99,12,23,23,12,13,13]\n",
    "\n",
    "print(frequency_counter(l))    "
   ]
  },
  {
   "cell_type": "markdown",
   "id": "5471d46f",
   "metadata": {},
   "source": [
    "## Data Filter: \n",
    "Write a function that takes a list of dictionaries (representing people,\n",
    "with keys for name, age, and profession) and a profession string, and returns a new\n",
    "list with dictionaries where the profession matches the given string.\n"
   ]
  },
  {
   "cell_type": "code",
   "execution_count": 42,
   "id": "0f4c2035",
   "metadata": {},
   "outputs": [],
   "source": [
    "def data_filter(people:list[dict], prof:str)->list[dict]:\n",
    "    output = []                           # creating empty list\n",
    "    \n",
    "    for i in people:\n",
    "        if i['profession'] == prof:     # if profession in the dictionary matches the prof \n",
    "            output.append(i)            # append that dictionary to the output list\n",
    "    return output"
   ]
  },
  {
   "cell_type": "code",
   "execution_count": 43,
   "id": "0bd449b6",
   "metadata": {},
   "outputs": [
    {
     "name": "stdout",
     "output_type": "stream",
     "text": [
      "[{'name': 'David', 'age': 35, 'profession': 'Doctor'}]\n"
     ]
    }
   ],
   "source": [
    "people = [\n",
    "    {\"name\": \"Alice\", \"age\": 30, \"profession\": \"Engineer\"},\n",
    "    {\"name\": \"Bob\", \"age\": 25, \"profession\": \"Teacher\"},\n",
    "    {\"name\": \"Charlie\", \"age\": 40, \"profession\": \"Artist\"},\n",
    "    {\"name\": \"David\", \"age\": 35, \"profession\": \"Doctor\"},\n",
    "    {\"name\": \"Eve\", \"age\": 28, \"profession\": \"Engineer\"}\n",
    "]\n",
    "\n",
    "print(data_filter(people,'Doctor'))"
   ]
  },
  {
   "cell_type": "markdown",
   "id": "af7b500e",
   "metadata": {},
   "source": [
    "##  Temperature Converter: Create a function that converts a temperature from\n",
    "Fahrenheit to Celsius and vice versa, based on a second argument indicating the\n",
    "direction of conversion ('F_to_C' or 'C_to_F').\n"
   ]
  },
  {
   "cell_type": "code",
   "execution_count": 52,
   "id": "cc03ce65",
   "metadata": {},
   "outputs": [],
   "source": [
    "def temperature_converter(temp,direction):\n",
    "    if direction == \"F_to_C\":\n",
    "        return round((temp-32) * (5/9),2)\n",
    "    elif direction == \"C_to_F\":\n",
    "        return round(temp * (9/5) + 32,2)\n",
    "    else:\n",
    "        return 'Please enter valid arguments'"
   ]
  },
  {
   "cell_type": "code",
   "execution_count": 61,
   "id": "96d40d42",
   "metadata": {},
   "outputs": [
    {
     "data": {
      "text/plain": [
       "32.0"
      ]
     },
     "execution_count": 61,
     "metadata": {},
     "output_type": "execute_result"
    }
   ],
   "source": [
    "temperature_converter(0,'C_to_F')"
   ]
  },
  {
   "cell_type": "markdown",
   "id": "64e16e24",
   "metadata": {},
   "source": [
    "##  Prime Number Finder: Write a function that takes an integer and returns a list of all\n",
    "prime numbers up to and including that integer"
   ]
  },
  {
   "cell_type": "code",
   "execution_count": 21,
   "id": "a356ed18",
   "metadata": {},
   "outputs": [
    {
     "name": "stdout",
     "output_type": "stream",
     "text": [
      "[2, 3, 5, 7]\n"
     ]
    }
   ],
   "source": [
    "def prime(n:int)->list:\n",
    "    l = []\n",
    "    def is_prime(num):\n",
    "        \"\"\"Returns True if num is \n",
    "        prime \"\"\"\n",
    "        for i in range(2,num):\n",
    "            if num % i == 0:\n",
    "                return False\n",
    "        return True    \n",
    "    \n",
    "    for i in range(2,n + 1):\n",
    "        if is_prime(i):          # calling the isprime() for each number b/w 2 and n+1\n",
    "                l.append(i)   # appending it to l if it is Prime\n",
    "                \n",
    "    return l\n",
    "    \n",
    "    \n",
    "print(prime(10))"
   ]
  },
  {
   "cell_type": "markdown",
   "id": "12699c6b",
   "metadata": {},
   "source": [
    "## . List Flattener: Develop a function that takes a list of lists and flattens it to a single list\n",
    "without using any built-in Python flattening functions."
   ]
  },
  {
   "cell_type": "code",
   "execution_count": 93,
   "id": "4da20bbf",
   "metadata": {},
   "outputs": [
    {
     "name": "stdout",
     "output_type": "stream",
     "text": [
      "[1, 2, 'Pankaj', 3, 4, 5, 6, 7, 8, 9, 10, 12, 13, 14, 16, 17, 18, 19, 20, 21, 22, 23, 24, 25]\n"
     ]
    }
   ],
   "source": [
    "def flat(l:list)->list:\n",
    "    l1 = []\n",
    "    def unpack(l):        \n",
    "        for i in l:\n",
    "            if isinstance(i,list):  # if type of type(i) == list then \n",
    "                unpack(i)           # it calls itself recursively\n",
    "            else:\n",
    "                l1.append(i)      \n",
    "                \n",
    "    if isinstance(l,list):         # Checking the type of argument is list\n",
    "        unpack(l)            # Calling unpack function (It is necessary to call unpack function which does the main work)\n",
    "        \n",
    "    return l1\n",
    "\n",
    "\n",
    "nested_list = [\n",
    "    1,2,'Pankaj',\n",
    "    [3, 4, [5, 6, [7, 8, [9, 10]]]],\n",
    "    [12, [13, 14]],\n",
    "    [16, 17, [18, 19, [20, 21, [22, 23, [24, 25]]]]]\n",
    "]\n",
    "\n",
    "print(flat(nested_list))"
   ]
  },
  {
   "cell_type": "markdown",
   "id": "389ada3a",
   "metadata": {},
   "source": [
    "## Unique Elements: Write a function that returns the unique elements in a list"
   ]
  },
  {
   "cell_type": "code",
   "execution_count": 23,
   "id": "9eb33fd7",
   "metadata": {},
   "outputs": [
    {
     "data": {
      "text/plain": [
       "[0, 23, 24]"
      ]
     },
     "execution_count": 23,
     "metadata": {},
     "output_type": "execute_result"
    }
   ],
   "source": [
    "def unique(l1:list)->dict:\n",
    "    output = []\n",
    "    dic = {}  \n",
    "    for i in li:           \n",
    "        if i in dic.keys():             # if the num is already in the dictionary then add one to the value of it\n",
    "            dic[i] += 1\n",
    "        else:\n",
    "            dic[i] = 1                 # if the num is not in the dictionary then add it to the dictionary and a give it value one \n",
    "\n",
    "    for i in dic.keys():   \n",
    "        if dic[i] == 1:\n",
    "            output.append(i)  # only add those keys from the dictionary into the output whose value is 1\n",
    "    return output\n",
    "    \n",
    "\n",
    "        \n",
    "\n",
    "li = [0,2,2,23,24]\n",
    "unique(li)"
   ]
  },
  {
   "cell_type": "markdown",
   "id": "ca394243",
   "metadata": {},
   "source": [
    "##  String Reverser: Create a function that takes a string and returns the string in\n",
    "reversed order without using the [::-1] syntax"
   ]
  },
  {
   "cell_type": "code",
   "execution_count": 112,
   "id": "97938c73",
   "metadata": {},
   "outputs": [],
   "source": [
    "def reverser(s:str):\n",
    "    for i in range(len(s)-1,-1,-1):   #Iterating from the index of last word of string \n",
    "        print(s[i],end='')\n",
    "        "
   ]
  },
  {
   "cell_type": "code",
   "execution_count": 113,
   "id": "533c658a",
   "metadata": {},
   "outputs": [
    {
     "name": "stdout",
     "output_type": "stream",
     "text": [
      "jaknap"
     ]
    }
   ],
   "source": [
    "s = \"pankaj\"\n",
    "reverser(s)"
   ]
  },
  {
   "cell_type": "markdown",
   "id": "ef623e42",
   "metadata": {},
   "source": [
    "## Dictionary Merger: Write a function that merges two dictionaries. If there is a\n",
    "conflict between dictionaries (same key), the value from the second dictionary\n",
    "should be kept."
   ]
  },
  {
   "cell_type": "code",
   "execution_count": 47,
   "id": "d7ba2553",
   "metadata": {},
   "outputs": [],
   "source": [
    "def merge_dictionaries(dict1, dict2):\n",
    "    merged_dict = dict1.copy()\n",
    "    merged_dict.update(dict2)\n",
    "    return merged_dict"
   ]
  },
  {
   "cell_type": "code",
   "execution_count": 48,
   "id": "5afbdeb6",
   "metadata": {},
   "outputs": [
    {
     "data": {
      "text/plain": [
       "{'a': 1, 'b': 2, 'c': 6, 'd': 4, 'e': 5}"
      ]
     },
     "execution_count": 48,
     "metadata": {},
     "output_type": "execute_result"
    }
   ],
   "source": [
    "dic1 = {'a':1,'b':2,'c':3}\n",
    "dic2 = {'d':4,'e':5,'c':6}\n",
    "\n",
    "# ouput = {'a':1,'b':2,'c':6,'d':4,'e':5}\n",
    "\n",
    "merge_dictionaries(dic1,dic2)\n",
    "        "
   ]
  },
  {
   "cell_type": "markdown",
   "id": "d825cf40",
   "metadata": {},
   "source": [
    "## Multiplication Table Printer: Develop a function that prints out a multiplication table\n",
    "for numbers up to a given number.\n",
    "\n"
   ]
  },
  {
   "cell_type": "code",
   "execution_count": 40,
   "id": "b0a09a0b",
   "metadata": {},
   "outputs": [],
   "source": [
    "def multi(n:int):\n",
    "    for i in range(1,11):    #iterating the outer for loop 10 times\n",
    "        for j in range(1,n+1):   #iterating the inner for loop n+1 times\n",
    "            print(i*j,end='   ')  \n",
    "        print()\n",
    "        "
   ]
  },
  {
   "cell_type": "code",
   "execution_count": 45,
   "id": "7fe8dfb3",
   "metadata": {},
   "outputs": [
    {
     "name": "stdout",
     "output_type": "stream",
     "text": [
      "1   2   3   4   5   \n",
      "2   4   6   8   10   \n",
      "3   6   9   12   15   \n",
      "4   8   12   16   20   \n",
      "5   10   15   20   25   \n",
      "6   12   18   24   30   \n",
      "7   14   21   28   35   \n",
      "8   16   24   32   40   \n",
      "9   18   27   36   45   \n",
      "10   20   30   40   50   \n"
     ]
    }
   ],
   "source": [
    "multi(5)"
   ]
  },
  {
   "cell_type": "markdown",
   "id": "b3652d18",
   "metadata": {},
   "source": [
    "## Email Validator: Write a function that checks if a given string is a valid email\n",
    "address (contains one '@' and at least one '.')."
   ]
  },
  {
   "cell_type": "code",
   "execution_count": 25,
   "id": "040eeb53",
   "metadata": {},
   "outputs": [],
   "source": [
    "def calid(email:str):\n",
    "    count_at = 0\n",
    "    count_dot = 0\n",
    "    for i in email:  \n",
    "        if i == '@':     # counting the occurance of @ in email and storing in the count_at variable\n",
    "            count_at += 1\n",
    "        elif i == '.':   # counting the occurance of . in email and storing in the count_dot variable\n",
    "            count_dot += 1\n",
    "        else:\n",
    "            pass\n",
    "    if count_at == 1 and count_dot >=1:  \n",
    "        return True\n",
    "    return False"
   ]
  },
  {
   "cell_type": "code",
   "execution_count": 33,
   "id": "1a34ba2a",
   "metadata": {},
   "outputs": [
    {
     "data": {
      "text/plain": [
       "True"
      ]
     },
     "execution_count": 33,
     "metadata": {},
     "output_type": "execute_result"
    }
   ],
   "source": [
    "e = 'pankajrao1812@gmail.com'\n",
    "calid(e)"
   ]
  },
  {
   "cell_type": "markdown",
   "id": "80d2963b",
   "metadata": {},
   "source": [
    "## Word Occurrence in Sentence: Create a function that counts how many times a\n",
    "word occurs in a sentence (passed as a string)"
   ]
  },
  {
   "cell_type": "code",
   "execution_count": 25,
   "id": "aebc1b40",
   "metadata": {},
   "outputs": [],
   "source": [
    "def occurance(s:str):\n",
    "    dic = {}\n",
    "    for i in s:\n",
    "        if i in dic.keys():\n",
    "            dic[i] += 1\n",
    "        elif i == ' ':\n",
    "            pass\n",
    "        else:\n",
    "            dic[i] = 1\n",
    "    return dic"
   ]
  },
  {
   "cell_type": "code",
   "execution_count": 26,
   "id": "ded40a4a",
   "metadata": {},
   "outputs": [
    {
     "data": {
      "text/plain": [
       "{'h': 2,\n",
       " 'e': 6,\n",
       " 'l': 4,\n",
       " 'o': 8,\n",
       " 'm': 5,\n",
       " 'y': 5,\n",
       " 'n': 7,\n",
       " 'a': 5,\n",
       " 'i': 5,\n",
       " 's': 3,\n",
       " 'p': 3,\n",
       " 'k': 1,\n",
       " 'j': 1,\n",
       " 'd': 1,\n",
       " 't': 4,\n",
       " 'r': 3,\n",
       " 'g': 3,\n",
       " 'v': 2,\n",
       " 'b': 3,\n",
       " 'f': 1,\n",
       " 'u': 2}"
      ]
     },
     "execution_count": 26,
     "metadata": {},
     "output_type": "execute_result"
    }
   ],
   "source": [
    "s = \"hello my name is pankaj and iam trying to solve python problems given by gino from youtube\"\n",
    "\n",
    "occurance(s)"
   ]
  },
  {
   "cell_type": "markdown",
   "id": "44229c67",
   "metadata": {},
   "source": [
    "## Fibonacci Sequence Generator: Write a function that returns the Fibonacci\n",
    "sequence up to a given number of elements"
   ]
  },
  {
   "cell_type": "code",
   "execution_count": 24,
   "id": "5dd60ec4",
   "metadata": {},
   "outputs": [],
   "source": [
    "def fibonacci(n):\n",
    "    fib = [0,1]\n",
    "    for i in range(2,n):\n",
    "        fib.append(fib[-1] + fib[-2]) # appending the sum of last and second last item of the list into the fib\n",
    "    return fib"
   ]
  },
  {
   "cell_type": "code",
   "execution_count": 25,
   "id": "f9c5fdf3",
   "metadata": {},
   "outputs": [
    {
     "data": {
      "text/plain": [
       "[0, 1, 1, 2, 3]"
      ]
     },
     "execution_count": 25,
     "metadata": {},
     "output_type": "execute_result"
    }
   ],
   "source": [
    "fibonacci(5)"
   ]
  },
  {
   "cell_type": "code",
   "execution_count": 19,
   "id": "35893686",
   "metadata": {},
   "outputs": [],
   "source": [
    "# recursive fibbonacci\n",
    "\n",
    "def fibo(n):\n",
    "    if n < 2 :  # base case , if n < 2 return the value of n itself\n",
    "        return n\n",
    "    else:\n",
    "        return (fibo(n-1) + fibo(n-2))  # recursive case , returns the sum of n-1 and n-2 till it reaches base case"
   ]
  },
  {
   "cell_type": "code",
   "execution_count": 22,
   "id": "2e3ab302",
   "metadata": {},
   "outputs": [
    {
     "name": "stdout",
     "output_type": "stream",
     "text": [
      "[0, 1, 1, 2, 3]\n"
     ]
    }
   ],
   "source": [
    "n = 5\n",
    "l = [fibo(i) for i in range(n)]   # fibbonacci sequence of each inedx till the number is added to the list l\n",
    "print(l)"
   ]
  },
  {
   "cell_type": "code",
   "execution_count": null,
   "id": "8562de43",
   "metadata": {},
   "outputs": [],
   "source": []
  }
 ],
 "metadata": {
  "kernelspec": {
   "display_name": "Python 3 (ipykernel)",
   "language": "python",
   "name": "python3"
  },
  "language_info": {
   "codemirror_mode": {
    "name": "ipython",
    "version": 3
   },
   "file_extension": ".py",
   "mimetype": "text/x-python",
   "name": "python",
   "nbconvert_exporter": "python",
   "pygments_lexer": "ipython3",
   "version": "3.10.9"
  }
 },
 "nbformat": 4,
 "nbformat_minor": 5
}
